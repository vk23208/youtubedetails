{
 "cells": [
  {
   "cell_type": "code",
   "execution_count": 2,
   "metadata": {},
   "outputs": [
    {
     "name": "stdout",
     "output_type": "stream",
     "text": [
      "Enter channel name: mkbhd\n",
      "Number of subsciber:  12M subscribers Number of videos:  1,269 videos\n"
     ]
    }
   ],
   "source": [
    "from selenium import webdriver\n",
    "\n",
    "#enter channel name to get its detail\n",
    "name = input(\"Enter channel name: \")\n",
    "url = \"https://www.youtube.com/results?search_query=\"+str(name)+\"&page=&utm_source=opensearch\"\n",
    "\n",
    "## Using Chrome to access web   \n",
    "driver = webdriver.Chrome(r\"/home/vishal/anaconda3/chromedriver\")\n",
    "driver.get(url)\n",
    "\n",
    "#search for number of subscriber, seaching with ID content of html\n",
    "subscriber = driver.find_element_by_id(\"subscribers\")\n",
    "subscriber_number = subscriber.text\n",
    "subscriber_number\n",
    "\n",
    "#search for number of videos\n",
    "videos = driver.find_element_by_id(\"video-count\")\n",
    "videos_number = videos.text\n",
    "videos_number\n",
    "\n",
    "print(\"Number of subsciber: \",subscriber_number,\"Number of videos: \", videos_number)"
   ]
  },
  {
   "cell_type": "code",
   "execution_count": null,
   "metadata": {},
   "outputs": [],
   "source": []
  },
  {
   "cell_type": "code",
   "execution_count": null,
   "metadata": {},
   "outputs": [],
   "source": []
  }
 ],
 "metadata": {
  "kernelspec": {
   "display_name": "Python 3",
   "language": "python",
   "name": "python3"
  },
  "language_info": {
   "codemirror_mode": {
    "name": "ipython",
    "version": 3
   },
   "file_extension": ".py",
   "mimetype": "text/x-python",
   "name": "python",
   "nbconvert_exporter": "python",
   "pygments_lexer": "ipython3",
   "version": "3.8.3"
  }
 },
 "nbformat": 4,
 "nbformat_minor": 4
}
